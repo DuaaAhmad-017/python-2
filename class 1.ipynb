{
 "cells": [
  {
   "cell_type": "markdown",
   "metadata": {},
   "source": [
    "# PYTHON CLASS 1"
   ]
  },
  {
   "cell_type": "markdown",
   "metadata": {},
   "source": [
    "THIS IS THE FIRST CLASS OF PYTHON "
   ]
  },
  {
   "cell_type": "code",
   "execution_count": 1,
   "metadata": {},
   "outputs": [],
   "source": [
    "#shift+enter is used to run plus it adds a new cell"
   ]
  },
  {
   "cell_type": "code",
   "execution_count": 2,
   "metadata": {},
   "outputs": [],
   "source": [
    "#ctrl+enter is used to run but it doesn't add a new cell"
   ]
  },
  {
   "cell_type": "code",
   "execution_count": 3,
   "metadata": {},
   "outputs": [],
   "source": [
    "#TYPES OF DATA\n",
    "#the data in which alphabets are used is called string data e.g: \"Duaa\".\n",
    "#the data in which whole numbers are included is called integer data e.g 23\n",
    "#the data in which decimal numbers are included is call floating data e.g 18.9\n"
   ]
  },
  {
   "cell_type": "code",
   "execution_count": 4,
   "metadata": {},
   "outputs": [],
   "source": [
    "#in string data we use quotation marks, we can use both single and double quotation marks "
   ]
  },
  {
   "cell_type": "code",
   "execution_count": 6,
   "metadata": {},
   "outputs": [],
   "source": [
    "#if we want to find the signature of a function, we simple write the function and within the brackets of that function\n",
    "#we press shift+tab\n",
    "#e.g\n",
    "#print(press shift+tab)"
   ]
  },
  {
   "cell_type": "code",
   "execution_count": 11,
   "metadata": {},
   "outputs": [
    {
     "name": "stdout",
     "output_type": "stream",
     "text": [
      "Duaa Ali Mahnoor Muddassir\n",
      "Duaa-Ali-Mahnoor-Muddassir\n"
     ]
    }
   ],
   "source": [
    "print('Duaa',\"Ali\",\"Mahnoor\",\"Muddassir\")#by defaulf gap is used as separator\n",
    "#for chaing the separator\n",
    "print('Duaa','Ali','Mahnoor','Muddassir',sep=\"-\")"
   ]
  },
  {
   "cell_type": "code",
   "execution_count": null,
   "metadata": {},
   "outputs": [],
   "source": []
  }
 ],
 "metadata": {
  "kernelspec": {
   "display_name": "Python 3",
   "language": "python",
   "name": "python3"
  },
  "language_info": {
   "codemirror_mode": {
    "name": "ipython",
    "version": 3
   },
   "file_extension": ".py",
   "mimetype": "text/x-python",
   "name": "python",
   "nbconvert_exporter": "python",
   "pygments_lexer": "ipython3",
   "version": "3.7.3"
  }
 },
 "nbformat": 4,
 "nbformat_minor": 2
}
